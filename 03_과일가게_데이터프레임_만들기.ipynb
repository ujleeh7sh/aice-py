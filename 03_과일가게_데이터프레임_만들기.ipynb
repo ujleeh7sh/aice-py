{
 "cells": [
  {
   "cell_type": "code",
   "execution_count": 8,
   "id": "c576da2c-e7a7-42a2-8ace-a7be4594fcb9",
   "metadata": {},
   "outputs": [],
   "source": [
    "import pandas as pd "
   ]
  },
  {
   "cell_type": "code",
   "execution_count": 10,
   "id": "2c3c879c-a804-4980-a6bb-5e3732f27a13",
   "metadata": {},
   "outputs": [
    {
     "data": {
      "text/html": [
       "<div>\n",
       "<style scoped>\n",
       "    .dataframe tbody tr th:only-of-type {\n",
       "        vertical-align: middle;\n",
       "    }\n",
       "\n",
       "    .dataframe tbody tr th {\n",
       "        vertical-align: top;\n",
       "    }\n",
       "\n",
       "    .dataframe thead th {\n",
       "        text-align: right;\n",
       "    }\n",
       "</style>\n",
       "<table border=\"1\" class=\"dataframe\">\n",
       "  <thead>\n",
       "    <tr style=\"text-align: right;\">\n",
       "      <th></th>\n",
       "      <th>fruit</th>\n",
       "      <th>price</th>\n",
       "    </tr>\n",
       "  </thead>\n",
       "  <tbody>\n",
       "    <tr>\n",
       "      <th>0</th>\n",
       "      <td>사과</td>\n",
       "      <td>1000</td>\n",
       "    </tr>\n",
       "    <tr>\n",
       "      <th>1</th>\n",
       "      <td>딸기</td>\n",
       "      <td>300</td>\n",
       "    </tr>\n",
       "    <tr>\n",
       "      <th>2</th>\n",
       "      <td>참외</td>\n",
       "      <td>700</td>\n",
       "    </tr>\n",
       "  </tbody>\n",
       "</table>\n",
       "</div>"
      ],
      "text/plain": [
       "  fruit  price\n",
       "0    사과   1000\n",
       "1    딸기    300\n",
       "2    참외    700"
      ]
     },
     "execution_count": 10,
     "metadata": {},
     "output_type": "execute_result"
    }
   ],
   "source": [
    "# 데이터프레임\n",
    "fruits_df = pd.DataFrame({\n",
    "\t'fruit': ['사과', '딸기', '참외'], \n",
    "\t'price': [1000, 300, 700]\n",
    "})\n",
    "\n",
    "fruits_df"
   ]
  },
  {
   "cell_type": "code",
   "execution_count": 14,
   "id": "247a9dc0-2d2b-4aaa-baf9-bc91734dfdec",
   "metadata": {},
   "outputs": [
    {
     "data": {
      "text/html": [
       "<div>\n",
       "<style scoped>\n",
       "    .dataframe tbody tr th:only-of-type {\n",
       "        vertical-align: middle;\n",
       "    }\n",
       "\n",
       "    .dataframe tbody tr th {\n",
       "        vertical-align: top;\n",
       "    }\n",
       "\n",
       "    .dataframe thead th {\n",
       "        text-align: right;\n",
       "    }\n",
       "</style>\n",
       "<table border=\"1\" class=\"dataframe\">\n",
       "  <thead>\n",
       "    <tr style=\"text-align: right;\">\n",
       "      <th></th>\n",
       "      <th>fruit</th>\n",
       "      <th>price</th>\n",
       "    </tr>\n",
       "  </thead>\n",
       "  <tbody>\n",
       "    <tr>\n",
       "      <th>A</th>\n",
       "      <td>사과</td>\n",
       "      <td>1000</td>\n",
       "    </tr>\n",
       "    <tr>\n",
       "      <th>B</th>\n",
       "      <td>딸기</td>\n",
       "      <td>300</td>\n",
       "    </tr>\n",
       "    <tr>\n",
       "      <th>C</th>\n",
       "      <td>참외</td>\n",
       "      <td>700</td>\n",
       "    </tr>\n",
       "  </tbody>\n",
       "</table>\n",
       "</div>"
      ],
      "text/plain": [
       "  fruit  price\n",
       "A    사과   1000\n",
       "B    딸기    300\n",
       "C    참외    700"
      ]
     },
     "execution_count": 14,
     "metadata": {},
     "output_type": "execute_result"
    }
   ],
   "source": [
    "# 라벨이 있는 데이터프레임\n",
    "fruits_df = pd.DataFrame({\n",
    "\t'fruit': ['사과', '딸기', '참외'], \n",
    "\t'price': [1000, 300, 700]\n",
    "}, index=['A', 'B', 'C'])\n",
    "\n",
    "fruits_df"
   ]
  },
  {
   "cell_type": "code",
   "execution_count": 11,
   "id": "bdec703a-f1e5-4558-9936-4f87dca63594",
   "metadata": {},
   "outputs": [
    {
     "data": {
      "text/plain": [
       "0    사과\n",
       "1    딸기\n",
       "2    참외\n",
       "dtype: object"
      ]
     },
     "execution_count": 11,
     "metadata": {},
     "output_type": "execute_result"
    }
   ],
   "source": [
    "# 시리즈\n",
    "fruit_s = pd.Series(['사과', '딸기', '참외'])\n",
    "\n",
    "fruit_s"
   ]
  },
  {
   "cell_type": "code",
   "execution_count": 15,
   "id": "69bf6ded-32dc-4fa1-9b04-c0a662d7b4ca",
   "metadata": {},
   "outputs": [
    {
     "data": {
      "text/plain": [
       "A    사과\n",
       "B    딸기\n",
       "C    참외\n",
       "dtype: object"
      ]
     },
     "execution_count": 15,
     "metadata": {},
     "output_type": "execute_result"
    }
   ],
   "source": [
    "# 라벨이 있는 시리즈 \n",
    "fruit_s = pd.Series(['사과', '딸기', '참외'], index=['A', 'B', 'C'])\n",
    "\n",
    "fruit_s"
   ]
  },
  {
   "cell_type": "code",
   "execution_count": 20,
   "id": "05ed222c-e339-42b4-80c8-ec62c6a06357",
   "metadata": {},
   "outputs": [
    {
     "data": {
      "text/html": [
       "<div>\n",
       "<style scoped>\n",
       "    .dataframe tbody tr th:only-of-type {\n",
       "        vertical-align: middle;\n",
       "    }\n",
       "\n",
       "    .dataframe tbody tr th {\n",
       "        vertical-align: top;\n",
       "    }\n",
       "\n",
       "    .dataframe thead th {\n",
       "        text-align: right;\n",
       "    }\n",
       "</style>\n",
       "<table border=\"1\" class=\"dataframe\">\n",
       "  <thead>\n",
       "    <tr style=\"text-align: right;\">\n",
       "      <th></th>\n",
       "      <th>fruit</th>\n",
       "      <th>price</th>\n",
       "    </tr>\n",
       "  </thead>\n",
       "  <tbody>\n",
       "    <tr>\n",
       "      <th>A</th>\n",
       "      <td>사과</td>\n",
       "      <td>1000</td>\n",
       "    </tr>\n",
       "    <tr>\n",
       "      <th>B</th>\n",
       "      <td>딸기</td>\n",
       "      <td>300</td>\n",
       "    </tr>\n",
       "    <tr>\n",
       "      <th>C</th>\n",
       "      <td>참외</td>\n",
       "      <td>700</td>\n",
       "    </tr>\n",
       "  </tbody>\n",
       "</table>\n",
       "</div>"
      ],
      "text/plain": [
       "  fruit  price\n",
       "A    사과   1000\n",
       "B    딸기    300\n",
       "C    참외    700"
      ]
     },
     "execution_count": 20,
     "metadata": {},
     "output_type": "execute_result"
    }
   ],
   "source": [
    "# 데이터프레임에 시리즈 사용\n",
    "# fruits_df index: A, B, C\n",
    "# fruit_s index: A, B, C\n",
    "fruits_df = pd.DataFrame({\n",
    "\t'fruit': fruit_s, \n",
    "\t'price': [1000, 300, 700]\n",
    "}, index=['A', 'B', 'C'])\n",
    "\n",
    "fruits_df"
   ]
  },
  {
   "cell_type": "code",
   "execution_count": 23,
   "id": "5d868609-f783-4dd2-b616-4247bbcc6342",
   "metadata": {},
   "outputs": [
    {
     "data": {
      "text/html": [
       "<div>\n",
       "<style scoped>\n",
       "    .dataframe tbody tr th:only-of-type {\n",
       "        vertical-align: middle;\n",
       "    }\n",
       "\n",
       "    .dataframe tbody tr th {\n",
       "        vertical-align: top;\n",
       "    }\n",
       "\n",
       "    .dataframe thead th {\n",
       "        text-align: right;\n",
       "    }\n",
       "</style>\n",
       "<table border=\"1\" class=\"dataframe\">\n",
       "  <thead>\n",
       "    <tr style=\"text-align: right;\">\n",
       "      <th></th>\n",
       "      <th>fruit</th>\n",
       "      <th>price</th>\n",
       "    </tr>\n",
       "  </thead>\n",
       "  <tbody>\n",
       "    <tr>\n",
       "      <th>X</th>\n",
       "      <td>NaN</td>\n",
       "      <td>1000</td>\n",
       "    </tr>\n",
       "    <tr>\n",
       "      <th>Y</th>\n",
       "      <td>NaN</td>\n",
       "      <td>300</td>\n",
       "    </tr>\n",
       "    <tr>\n",
       "      <th>Z</th>\n",
       "      <td>NaN</td>\n",
       "      <td>700</td>\n",
       "    </tr>\n",
       "  </tbody>\n",
       "</table>\n",
       "</div>"
      ],
      "text/plain": [
       "  fruit  price\n",
       "X   NaN   1000\n",
       "Y   NaN    300\n",
       "Z   NaN    700"
      ]
     },
     "execution_count": 23,
     "metadata": {},
     "output_type": "execute_result"
    }
   ],
   "source": [
    "# 데이터프레임과 시리즈의 인덱스가 서로 다를 경우 매칭 안됨(NaN)\n",
    "# fruits_df index: X, Y, Z\n",
    "# fruit_s index: A, B, C\n",
    "fruits_df = pd.DataFrame({\n",
    "\t'fruit': fruit_s, \n",
    "\t'price': [1000, 300, 700]\n",
    "}, index=['X', 'Y', 'Z'])\n",
    "\n",
    "fruits_df"
   ]
  }
 ],
 "metadata": {
  "kernelspec": {
   "display_name": "Python 3 (ipykernel)",
   "language": "python",
   "name": "python3"
  },
  "language_info": {
   "codemirror_mode": {
    "name": "ipython",
    "version": 3
   },
   "file_extension": ".py",
   "mimetype": "text/x-python",
   "name": "python",
   "nbconvert_exporter": "python",
   "pygments_lexer": "ipython3",
   "version": "3.10.18"
  }
 },
 "nbformat": 4,
 "nbformat_minor": 5
}
