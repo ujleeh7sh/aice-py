{
 "cells": [
  {
   "cell_type": "code",
   "execution_count": 1,
   "id": "da40eddb-3df3-457e-ab87-3f5277c390e3",
   "metadata": {},
   "outputs": [],
   "source": [
    "import numpy as np"
   ]
  },
  {
   "cell_type": "code",
   "execution_count": 2,
   "id": "36e69df1-1fa9-43d4-b01b-9a9cc6af8192",
   "metadata": {},
   "outputs": [
    {
     "data": {
      "text/plain": [
       "array([98. , 92.5, 84.5, 77. , 75.5])"
      ]
     },
     "execution_count": 2,
     "metadata": {},
     "output_type": "execute_result"
    }
   ],
   "source": [
    "scores = np.array([98.0, 92.5, 84.5, 77.0, 75.5])\n",
    "scores"
   ]
  },
  {
   "cell_type": "code",
   "execution_count": 3,
   "id": "927246b7-a1fd-4a05-a890-817d93c5a0d1",
   "metadata": {},
   "outputs": [
    {
     "data": {
      "text/plain": [
       "array(['98.0', '92.5', '84.5', '77.0', '75.5'], dtype='<U32')"
      ]
     },
     "execution_count": 3,
     "metadata": {},
     "output_type": "execute_result"
    }
   ],
   "source": [
    "scores = np.array([98.0, 92.5, 84.5, 77.0, '75.5'])\n",
    "scores"
   ]
  }
 ],
 "metadata": {
  "kernelspec": {
   "display_name": "Python 3 (ipykernel)",
   "language": "python",
   "name": "python3"
  },
  "language_info": {
   "codemirror_mode": {
    "name": "ipython",
    "version": 3
   },
   "file_extension": ".py",
   "mimetype": "text/x-python",
   "name": "python",
   "nbconvert_exporter": "python",
   "pygments_lexer": "ipython3",
   "version": "3.10.13"
  }
 },
 "nbformat": 4,
 "nbformat_minor": 5
}
