{
 "cells": [
  {
   "cell_type": "code",
   "execution_count": 1,
   "id": "9a0c19ac-ad25-466b-916d-eb49a030cb80",
   "metadata": {},
   "outputs": [
    {
     "data": {
      "text/html": [
       "<div>\n",
       "<style scoped>\n",
       "    .dataframe tbody tr th:only-of-type {\n",
       "        vertical-align: middle;\n",
       "    }\n",
       "\n",
       "    .dataframe tbody tr th {\n",
       "        vertical-align: top;\n",
       "    }\n",
       "\n",
       "    .dataframe thead th {\n",
       "        text-align: right;\n",
       "    }\n",
       "</style>\n",
       "<table border=\"1\" class=\"dataframe\">\n",
       "  <thead>\n",
       "    <tr style=\"text-align: right;\">\n",
       "      <th></th>\n",
       "      <th></th>\n",
       "      <th>과일</th>\n",
       "      <th>판매량</th>\n",
       "    </tr>\n",
       "    <tr>\n",
       "      <th>날짜</th>\n",
       "      <th>지역</th>\n",
       "      <th></th>\n",
       "      <th></th>\n",
       "    </tr>\n",
       "  </thead>\n",
       "  <tbody>\n",
       "    <tr>\n",
       "      <th rowspan=\"4\" valign=\"top\">2023-01-01</th>\n",
       "      <th>서울</th>\n",
       "      <td>사과</td>\n",
       "      <td>100</td>\n",
       "    </tr>\n",
       "    <tr>\n",
       "      <th>서울</th>\n",
       "      <td>사과</td>\n",
       "      <td>80</td>\n",
       "    </tr>\n",
       "    <tr>\n",
       "      <th>부산</th>\n",
       "      <td>딸기</td>\n",
       "      <td>50</td>\n",
       "    </tr>\n",
       "    <tr>\n",
       "      <th>부산</th>\n",
       "      <td>딸기</td>\n",
       "      <td>30</td>\n",
       "    </tr>\n",
       "    <tr>\n",
       "      <th rowspan=\"4\" valign=\"top\">2023-01-02</th>\n",
       "      <th>서울</th>\n",
       "      <td>사과</td>\n",
       "      <td>120</td>\n",
       "    </tr>\n",
       "    <tr>\n",
       "      <th>서울</th>\n",
       "      <td>사과</td>\n",
       "      <td>100</td>\n",
       "    </tr>\n",
       "    <tr>\n",
       "      <th>대구</th>\n",
       "      <td>참외</td>\n",
       "      <td>40</td>\n",
       "    </tr>\n",
       "    <tr>\n",
       "      <th>대구</th>\n",
       "      <td>참외</td>\n",
       "      <td>30</td>\n",
       "    </tr>\n",
       "  </tbody>\n",
       "</table>\n",
       "</div>"
      ],
      "text/plain": [
       "               과일  판매량\n",
       "날짜         지역         \n",
       "2023-01-01 서울  사과  100\n",
       "           서울  사과   80\n",
       "           부산  딸기   50\n",
       "           부산  딸기   30\n",
       "2023-01-02 서울  사과  120\n",
       "           서울  사과  100\n",
       "           대구  참외   40\n",
       "           대구  참외   30"
      ]
     },
     "execution_count": 1,
     "metadata": {},
     "output_type": "execute_result"
    }
   ],
   "source": [
    "import pandas as pd\n",
    "\n",
    "fruits_data = {\n",
    "    '날짜': ['2023-01-01', '2023-01-01', '2023-01-01', '2023-01-01', '2023-01-02', '2023-01-02', '2023-01-02', '2023-01-02'],\n",
    "    '지역': ['서울', '서울', '부산', '부산', '서울', '서울', '대구', '대구'],\n",
    "    '과일': ['사과', '사과', '딸기', '딸기', '사과', '사과', '참외', '참외'],\n",
    "    '판매량': [100, 80, 50, 30, 120, 100, 40, 30]\n",
    "}\n",
    "\n",
    "fruits_df = pd.DataFrame(fruits_data)\n",
    "\n",
    "df = fruits_df.set_index(['날짜', '지역'])\n",
    "df"
   ]
  },
  {
   "cell_type": "code",
   "execution_count": 2,
   "id": "ea79fc56-0daf-400c-89ca-b81cc6883049",
   "metadata": {},
   "outputs": [
    {
     "data": {
      "text/plain": [
       "날짜          지역\n",
       "2023-01-01  부산     80\n",
       "            서울    180\n",
       "2023-01-02  대구     70\n",
       "            서울    220\n",
       "Name: 판매량, dtype: int64"
      ]
     },
     "execution_count": 2,
     "metadata": {},
     "output_type": "execute_result"
    }
   ],
   "source": [
    "# 지역 별 판매량 합계를 날짜 별로 보기\n",
    "grouped_s = df.groupby(['날짜', '지역'])['판매량'].sum()\n",
    "grouped_s"
   ]
  },
  {
   "cell_type": "code",
   "execution_count": 3,
   "id": "71400bd5-7285-49e7-8668-67c9018a7a17",
   "metadata": {},
   "outputs": [
    {
     "data": {
      "text/plain": [
       "pandas.core.series.Series"
      ]
     },
     "execution_count": 3,
     "metadata": {},
     "output_type": "execute_result"
    }
   ],
   "source": [
    "type(grouped_s)"
   ]
  },
  {
   "cell_type": "code",
   "execution_count": 4,
   "id": "c3d3fd71-3151-46d5-aeda-c7941ce1986a",
   "metadata": {},
   "outputs": [],
   "source": [
    "# grouped_df = df.groupby(['날짜', '지역'])[['판매량']].sum()\n",
    "# type(grouped_df)"
   ]
  },
  {
   "cell_type": "code",
   "execution_count": 5,
   "id": "cb930b48-4cc2-42b6-a98e-015b26a09438",
   "metadata": {},
   "outputs": [
    {
     "data": {
      "text/plain": [
       "MultiIndex([('2023-01-01', '부산'),\n",
       "            ('2023-01-01', '서울'),\n",
       "            ('2023-01-02', '대구'),\n",
       "            ('2023-01-02', '서울')],\n",
       "           names=['날짜', '지역'])"
      ]
     },
     "execution_count": 5,
     "metadata": {},
     "output_type": "execute_result"
    }
   ],
   "source": [
    "# 0: 날짜, 1: 지역\n",
    "grouped_s.index"
   ]
  },
  {
   "cell_type": "code",
   "execution_count": 6,
   "id": "ba08ce06-dfda-4cbf-9f05-83f6836502e5",
   "metadata": {},
   "outputs": [
    {
     "data": {
      "text/plain": [
       "날짜          지역\n",
       "2023-01-01  부산     80\n",
       "            서울    180\n",
       "2023-01-02  대구     70\n",
       "            서울    220\n",
       "Name: 판매량, dtype: int64"
      ]
     },
     "execution_count": 6,
     "metadata": {},
     "output_type": "execute_result"
    }
   ],
   "source": [
    "grouped_s"
   ]
  },
  {
   "cell_type": "code",
   "execution_count": 7,
   "id": "822f7684-9287-41d6-865e-51f85bd2a84d",
   "metadata": {},
   "outputs": [
    {
     "data": {
      "text/html": [
       "<div>\n",
       "<style scoped>\n",
       "    .dataframe tbody tr th:only-of-type {\n",
       "        vertical-align: middle;\n",
       "    }\n",
       "\n",
       "    .dataframe tbody tr th {\n",
       "        vertical-align: top;\n",
       "    }\n",
       "\n",
       "    .dataframe thead th {\n",
       "        text-align: right;\n",
       "    }\n",
       "</style>\n",
       "<table border=\"1\" class=\"dataframe\">\n",
       "  <thead>\n",
       "    <tr style=\"text-align: right;\">\n",
       "      <th>지역</th>\n",
       "      <th>대구</th>\n",
       "      <th>부산</th>\n",
       "      <th>서울</th>\n",
       "    </tr>\n",
       "    <tr>\n",
       "      <th>날짜</th>\n",
       "      <th></th>\n",
       "      <th></th>\n",
       "      <th></th>\n",
       "    </tr>\n",
       "  </thead>\n",
       "  <tbody>\n",
       "    <tr>\n",
       "      <th>2023-01-01</th>\n",
       "      <td>NaN</td>\n",
       "      <td>80.0</td>\n",
       "      <td>180.0</td>\n",
       "    </tr>\n",
       "    <tr>\n",
       "      <th>2023-01-02</th>\n",
       "      <td>70.0</td>\n",
       "      <td>NaN</td>\n",
       "      <td>220.0</td>\n",
       "    </tr>\n",
       "  </tbody>\n",
       "</table>\n",
       "</div>"
      ],
      "text/plain": [
       "지역            대구    부산     서울\n",
       "날짜                           \n",
       "2023-01-01   NaN  80.0  180.0\n",
       "2023-01-02  70.0   NaN  220.0"
      ]
     },
     "execution_count": 7,
     "metadata": {},
     "output_type": "execute_result"
    }
   ],
   "source": [
    "# '지역'을 인덱스에서 컬럼으로 이동\n",
    "# 동일 표현: unstack(), unstack(1), unstack('지역')\n",
    "unstacked_df = grouped_s.unstack(level=1)\n",
    "unstacked_df"
   ]
  },
  {
   "cell_type": "code",
   "execution_count": 8,
   "id": "e65a6515-c74b-478e-9e77-1b629bf83736",
   "metadata": {},
   "outputs": [
    {
     "data": {
      "text/plain": [
       "Index(['대구', '부산', '서울'], dtype='object', name='지역')"
      ]
     },
     "execution_count": 8,
     "metadata": {},
     "output_type": "execute_result"
    }
   ],
   "source": [
    "unstacked_df.columns"
   ]
  },
  {
   "cell_type": "code",
   "execution_count": 9,
   "id": "8c9e9d78-0703-4e81-a906-091e88fb12a3",
   "metadata": {},
   "outputs": [
    {
     "data": {
      "text/plain": [
       "날짜          지역\n",
       "2023-01-01  부산     80.0\n",
       "            서울    180.0\n",
       "2023-01-02  대구     70.0\n",
       "            서울    220.0\n",
       "dtype: float64"
      ]
     },
     "execution_count": 9,
     "metadata": {},
     "output_type": "execute_result"
    }
   ],
   "source": [
    "# '지역'을 컬럼에서 인덱스로 이동\n",
    "# 동일 표현: stack(), stack(0), stack('지역')\n",
    "stacked_s = unstacked_df.stack(level=0)\n",
    "stacked_s"
   ]
  },
  {
   "cell_type": "code",
   "execution_count": 10,
   "id": "bfa276bb-15eb-42a8-ab2d-26df37131c0e",
   "metadata": {},
   "outputs": [
    {
     "data": {
      "text/plain": [
       "날짜          지역\n",
       "2023-01-01  부산     80.0\n",
       "            서울    180.0\n",
       "2023-01-02  대구     70.0\n",
       "            서울    220.0\n",
       "dtype: float64"
      ]
     },
     "execution_count": 10,
     "metadata": {},
     "output_type": "execute_result"
    }
   ],
   "source": [
    "stacked_s"
   ]
  },
  {
   "cell_type": "code",
   "execution_count": 11,
   "id": "966f4d22-9528-4e0b-949d-28229a2be780",
   "metadata": {},
   "outputs": [
    {
     "data": {
      "text/plain": [
       "MultiIndex([('2023-01-01', '부산'),\n",
       "            ('2023-01-01', '서울'),\n",
       "            ('2023-01-02', '대구'),\n",
       "            ('2023-01-02', '서울')],\n",
       "           names=['날짜', '지역'])"
      ]
     },
     "execution_count": 11,
     "metadata": {},
     "output_type": "execute_result"
    }
   ],
   "source": [
    "stacked_s.index"
   ]
  },
  {
   "cell_type": "code",
   "execution_count": 12,
   "id": "dd7c9f79-2d49-44f6-86b5-d3a8d1e79f9e",
   "metadata": {},
   "outputs": [
    {
     "data": {
      "text/html": [
       "<div>\n",
       "<style scoped>\n",
       "    .dataframe tbody tr th:only-of-type {\n",
       "        vertical-align: middle;\n",
       "    }\n",
       "\n",
       "    .dataframe tbody tr th {\n",
       "        vertical-align: top;\n",
       "    }\n",
       "\n",
       "    .dataframe thead th {\n",
       "        text-align: right;\n",
       "    }\n",
       "</style>\n",
       "<table border=\"1\" class=\"dataframe\">\n",
       "  <thead>\n",
       "    <tr style=\"text-align: right;\">\n",
       "      <th></th>\n",
       "      <th>날짜</th>\n",
       "      <th>지역</th>\n",
       "      <th>0</th>\n",
       "    </tr>\n",
       "  </thead>\n",
       "  <tbody>\n",
       "    <tr>\n",
       "      <th>0</th>\n",
       "      <td>2023-01-01</td>\n",
       "      <td>부산</td>\n",
       "      <td>80.0</td>\n",
       "    </tr>\n",
       "    <tr>\n",
       "      <th>1</th>\n",
       "      <td>2023-01-01</td>\n",
       "      <td>서울</td>\n",
       "      <td>180.0</td>\n",
       "    </tr>\n",
       "    <tr>\n",
       "      <th>2</th>\n",
       "      <td>2023-01-02</td>\n",
       "      <td>대구</td>\n",
       "      <td>70.0</td>\n",
       "    </tr>\n",
       "    <tr>\n",
       "      <th>3</th>\n",
       "      <td>2023-01-02</td>\n",
       "      <td>서울</td>\n",
       "      <td>220.0</td>\n",
       "    </tr>\n",
       "  </tbody>\n",
       "</table>\n",
       "</div>"
      ],
      "text/plain": [
       "           날짜  지역      0\n",
       "0  2023-01-01  부산   80.0\n",
       "1  2023-01-01  서울  180.0\n",
       "2  2023-01-02  대구   70.0\n",
       "3  2023-01-02  서울  220.0"
      ]
     },
     "execution_count": 12,
     "metadata": {},
     "output_type": "execute_result"
    }
   ],
   "source": [
    "# 인덱스 리셋\n",
    "# reset_df = stacked_s.reset_index(0) # '지역' 인덱스만 리셋\n",
    "# reset_df = stacked_s.reset_index(level=1) # '날짜' 인덱스만 리셋\n",
    "reset_df = stacked_s.reset_index() # 모든 인덱스 리셋\n",
    "reset_df"
   ]
  },
  {
   "cell_type": "code",
   "execution_count": 13,
   "id": "8086855e-f1d6-4264-b593-64e9f631959f",
   "metadata": {},
   "outputs": [
    {
     "data": {
      "text/html": [
       "<div>\n",
       "<style scoped>\n",
       "    .dataframe tbody tr th:only-of-type {\n",
       "        vertical-align: middle;\n",
       "    }\n",
       "\n",
       "    .dataframe tbody tr th {\n",
       "        vertical-align: top;\n",
       "    }\n",
       "\n",
       "    .dataframe thead th {\n",
       "        text-align: right;\n",
       "    }\n",
       "</style>\n",
       "<table border=\"1\" class=\"dataframe\">\n",
       "  <thead>\n",
       "    <tr style=\"text-align: right;\">\n",
       "      <th></th>\n",
       "      <th>날짜</th>\n",
       "      <th>지역</th>\n",
       "      <th>판매량</th>\n",
       "    </tr>\n",
       "  </thead>\n",
       "  <tbody>\n",
       "    <tr>\n",
       "      <th>0</th>\n",
       "      <td>2023-01-01</td>\n",
       "      <td>부산</td>\n",
       "      <td>80.0</td>\n",
       "    </tr>\n",
       "    <tr>\n",
       "      <th>1</th>\n",
       "      <td>2023-01-01</td>\n",
       "      <td>서울</td>\n",
       "      <td>180.0</td>\n",
       "    </tr>\n",
       "    <tr>\n",
       "      <th>2</th>\n",
       "      <td>2023-01-02</td>\n",
       "      <td>대구</td>\n",
       "      <td>70.0</td>\n",
       "    </tr>\n",
       "    <tr>\n",
       "      <th>3</th>\n",
       "      <td>2023-01-02</td>\n",
       "      <td>서울</td>\n",
       "      <td>220.0</td>\n",
       "    </tr>\n",
       "  </tbody>\n",
       "</table>\n",
       "</div>"
      ],
      "text/plain": [
       "           날짜  지역    판매량\n",
       "0  2023-01-01  부산   80.0\n",
       "1  2023-01-01  서울  180.0\n",
       "2  2023-01-02  대구   70.0\n",
       "3  2023-01-02  서울  220.0"
      ]
     },
     "execution_count": 13,
     "metadata": {},
     "output_type": "execute_result"
    }
   ],
   "source": [
    "reset_df = reset_df.rename(columns = { 0 : '판매량' })\n",
    "reset_df"
   ]
  },
  {
   "cell_type": "code",
   "execution_count": 14,
   "id": "65a11adb-65d2-419c-aa67-255591f6559a",
   "metadata": {},
   "outputs": [],
   "source": [
    "# '지역' 인덱스만 리셋\n",
    "# reset_df = stacked_s.reset_index(0)\n",
    "# reset_df = stacked_s.reset_index(level=0)\n",
    "# reset_df = stacked_s.reset_index('지역')\n",
    "# reset_df"
   ]
  },
  {
   "cell_type": "code",
   "execution_count": 15,
   "id": "73b8ddad-d3d4-4a2a-b76f-c65fa9117161",
   "metadata": {},
   "outputs": [
    {
     "data": {
      "text/html": [
       "<div>\n",
       "<style scoped>\n",
       "    .dataframe tbody tr th:only-of-type {\n",
       "        vertical-align: middle;\n",
       "    }\n",
       "\n",
       "    .dataframe tbody tr th {\n",
       "        vertical-align: top;\n",
       "    }\n",
       "\n",
       "    .dataframe thead th {\n",
       "        text-align: right;\n",
       "    }\n",
       "</style>\n",
       "<table border=\"1\" class=\"dataframe\">\n",
       "  <thead>\n",
       "    <tr style=\"text-align: right;\">\n",
       "      <th></th>\n",
       "      <th>날짜</th>\n",
       "      <th>지역</th>\n",
       "      <th>과일</th>\n",
       "      <th>판매량</th>\n",
       "    </tr>\n",
       "  </thead>\n",
       "  <tbody>\n",
       "    <tr>\n",
       "      <th>0</th>\n",
       "      <td>2023-01-01</td>\n",
       "      <td>서울</td>\n",
       "      <td>사과</td>\n",
       "      <td>100</td>\n",
       "    </tr>\n",
       "    <tr>\n",
       "      <th>1</th>\n",
       "      <td>2023-01-01</td>\n",
       "      <td>서울</td>\n",
       "      <td>사과</td>\n",
       "      <td>80</td>\n",
       "    </tr>\n",
       "    <tr>\n",
       "      <th>2</th>\n",
       "      <td>2023-01-01</td>\n",
       "      <td>부산</td>\n",
       "      <td>딸기</td>\n",
       "      <td>50</td>\n",
       "    </tr>\n",
       "    <tr>\n",
       "      <th>3</th>\n",
       "      <td>2023-01-01</td>\n",
       "      <td>부산</td>\n",
       "      <td>딸기</td>\n",
       "      <td>30</td>\n",
       "    </tr>\n",
       "    <tr>\n",
       "      <th>4</th>\n",
       "      <td>2023-01-02</td>\n",
       "      <td>서울</td>\n",
       "      <td>사과</td>\n",
       "      <td>120</td>\n",
       "    </tr>\n",
       "    <tr>\n",
       "      <th>5</th>\n",
       "      <td>2023-01-02</td>\n",
       "      <td>서울</td>\n",
       "      <td>사과</td>\n",
       "      <td>100</td>\n",
       "    </tr>\n",
       "    <tr>\n",
       "      <th>6</th>\n",
       "      <td>2023-01-02</td>\n",
       "      <td>대구</td>\n",
       "      <td>참외</td>\n",
       "      <td>40</td>\n",
       "    </tr>\n",
       "    <tr>\n",
       "      <th>7</th>\n",
       "      <td>2023-01-02</td>\n",
       "      <td>대구</td>\n",
       "      <td>참외</td>\n",
       "      <td>30</td>\n",
       "    </tr>\n",
       "  </tbody>\n",
       "</table>\n",
       "</div>"
      ],
      "text/plain": [
       "           날짜  지역  과일  판매량\n",
       "0  2023-01-01  서울  사과  100\n",
       "1  2023-01-01  서울  사과   80\n",
       "2  2023-01-01  부산  딸기   50\n",
       "3  2023-01-01  부산  딸기   30\n",
       "4  2023-01-02  서울  사과  120\n",
       "5  2023-01-02  서울  사과  100\n",
       "6  2023-01-02  대구  참외   40\n",
       "7  2023-01-02  대구  참외   30"
      ]
     },
     "execution_count": 15,
     "metadata": {},
     "output_type": "execute_result"
    }
   ],
   "source": [
    "fruits_df"
   ]
  },
  {
   "cell_type": "code",
   "execution_count": 16,
   "id": "9b34a4ec-0b94-4203-aa36-d1190d96e5d1",
   "metadata": {},
   "outputs": [],
   "source": [
    "# (날짜, 과일) 인덱스에 중복된 값이 있을 때 pivot 사용불가\n",
    "# pivot_df = fruits_df.pivot(index='날짜', columns='과일', values='판매량')"
   ]
  },
  {
   "cell_type": "code",
   "execution_count": 17,
   "id": "4543fe86-7970-495d-b2a2-4980fe9db4a8",
   "metadata": {},
   "outputs": [
    {
     "data": {
      "text/html": [
       "<div>\n",
       "<style scoped>\n",
       "    .dataframe tbody tr th:only-of-type {\n",
       "        vertical-align: middle;\n",
       "    }\n",
       "\n",
       "    .dataframe tbody tr th {\n",
       "        vertical-align: top;\n",
       "    }\n",
       "\n",
       "    .dataframe thead th {\n",
       "        text-align: right;\n",
       "    }\n",
       "</style>\n",
       "<table border=\"1\" class=\"dataframe\">\n",
       "  <thead>\n",
       "    <tr style=\"text-align: right;\">\n",
       "      <th>과일</th>\n",
       "      <th>딸기</th>\n",
       "      <th>사과</th>\n",
       "      <th>참외</th>\n",
       "    </tr>\n",
       "    <tr>\n",
       "      <th>날짜</th>\n",
       "      <th></th>\n",
       "      <th></th>\n",
       "      <th></th>\n",
       "    </tr>\n",
       "  </thead>\n",
       "  <tbody>\n",
       "    <tr>\n",
       "      <th>2023-01-01</th>\n",
       "      <td>80.0</td>\n",
       "      <td>180.0</td>\n",
       "      <td>NaN</td>\n",
       "    </tr>\n",
       "    <tr>\n",
       "      <th>2023-01-02</th>\n",
       "      <td>NaN</td>\n",
       "      <td>220.0</td>\n",
       "      <td>70.0</td>\n",
       "    </tr>\n",
       "  </tbody>\n",
       "</table>\n",
       "</div>"
      ],
      "text/plain": [
       "과일            딸기     사과    참외\n",
       "날짜                           \n",
       "2023-01-01  80.0  180.0   NaN\n",
       "2023-01-02   NaN  220.0  70.0"
      ]
     },
     "execution_count": 17,
     "metadata": {},
     "output_type": "execute_result"
    }
   ],
   "source": [
    "# (날짜, 과일) 인덱스에 중복된 값이 있을 때 pivot_table 사용가능\n",
    "pivot_table_df = fruits_df.pivot_table(index='날짜', columns='과일', values='판매량', aggfunc='sum')\n",
    "pivot_table_df"
   ]
  },
  {
   "cell_type": "code",
   "execution_count": 18,
   "id": "7fc3d42f-c679-4657-a1d4-49ef95408532",
   "metadata": {},
   "outputs": [
    {
     "data": {
      "text/html": [
       "<div>\n",
       "<style scoped>\n",
       "    .dataframe tbody tr th:only-of-type {\n",
       "        vertical-align: middle;\n",
       "    }\n",
       "\n",
       "    .dataframe tbody tr th {\n",
       "        vertical-align: top;\n",
       "    }\n",
       "\n",
       "    .dataframe thead th {\n",
       "        text-align: right;\n",
       "    }\n",
       "</style>\n",
       "<table border=\"1\" class=\"dataframe\">\n",
       "  <thead>\n",
       "    <tr style=\"text-align: right;\">\n",
       "      <th>과일</th>\n",
       "      <th>딸기</th>\n",
       "      <th>사과</th>\n",
       "      <th>참외</th>\n",
       "    </tr>\n",
       "    <tr>\n",
       "      <th>날짜</th>\n",
       "      <th></th>\n",
       "      <th></th>\n",
       "      <th></th>\n",
       "    </tr>\n",
       "  </thead>\n",
       "  <tbody>\n",
       "    <tr>\n",
       "      <th>2023-01-01</th>\n",
       "      <td>80.0</td>\n",
       "      <td>180.0</td>\n",
       "      <td>NaN</td>\n",
       "    </tr>\n",
       "    <tr>\n",
       "      <th>2023-01-02</th>\n",
       "      <td>NaN</td>\n",
       "      <td>220.0</td>\n",
       "      <td>70.0</td>\n",
       "    </tr>\n",
       "  </tbody>\n",
       "</table>\n",
       "</div>"
      ],
      "text/plain": [
       "과일            딸기     사과    참외\n",
       "날짜                           \n",
       "2023-01-01  80.0  180.0   NaN\n",
       "2023-01-02   NaN  220.0  70.0"
      ]
     },
     "execution_count": 18,
     "metadata": {},
     "output_type": "execute_result"
    }
   ],
   "source": [
    "pivot_table_df"
   ]
  },
  {
   "cell_type": "code",
   "execution_count": 19,
   "id": "000a2056-7aad-4818-bcc1-7373268131e3",
   "metadata": {},
   "outputs": [
    {
     "data": {
      "text/plain": [
       "Index(['2023-01-01', '2023-01-02'], dtype='object', name='날짜')"
      ]
     },
     "execution_count": 19,
     "metadata": {},
     "output_type": "execute_result"
    }
   ],
   "source": [
    "pivot_table_df.index"
   ]
  },
  {
   "cell_type": "code",
   "execution_count": 20,
   "id": "133d61fb-f4b4-44c8-8dc9-3a8e694670dd",
   "metadata": {},
   "outputs": [
    {
     "data": {
      "text/html": [
       "<div>\n",
       "<style scoped>\n",
       "    .dataframe tbody tr th:only-of-type {\n",
       "        vertical-align: middle;\n",
       "    }\n",
       "\n",
       "    .dataframe tbody tr th {\n",
       "        vertical-align: top;\n",
       "    }\n",
       "\n",
       "    .dataframe thead th {\n",
       "        text-align: right;\n",
       "    }\n",
       "</style>\n",
       "<table border=\"1\" class=\"dataframe\">\n",
       "  <thead>\n",
       "    <tr style=\"text-align: right;\">\n",
       "      <th></th>\n",
       "      <th>날짜</th>\n",
       "      <th>과일</th>\n",
       "      <th>판매량</th>\n",
       "    </tr>\n",
       "  </thead>\n",
       "  <tbody>\n",
       "    <tr>\n",
       "      <th>0</th>\n",
       "      <td>2023-01-01</td>\n",
       "      <td>딸기</td>\n",
       "      <td>80.0</td>\n",
       "    </tr>\n",
       "    <tr>\n",
       "      <th>1</th>\n",
       "      <td>2023-01-02</td>\n",
       "      <td>딸기</td>\n",
       "      <td>NaN</td>\n",
       "    </tr>\n",
       "    <tr>\n",
       "      <th>2</th>\n",
       "      <td>2023-01-01</td>\n",
       "      <td>사과</td>\n",
       "      <td>180.0</td>\n",
       "    </tr>\n",
       "    <tr>\n",
       "      <th>3</th>\n",
       "      <td>2023-01-02</td>\n",
       "      <td>사과</td>\n",
       "      <td>220.0</td>\n",
       "    </tr>\n",
       "    <tr>\n",
       "      <th>4</th>\n",
       "      <td>2023-01-01</td>\n",
       "      <td>참외</td>\n",
       "      <td>NaN</td>\n",
       "    </tr>\n",
       "    <tr>\n",
       "      <th>5</th>\n",
       "      <td>2023-01-02</td>\n",
       "      <td>참외</td>\n",
       "      <td>70.0</td>\n",
       "    </tr>\n",
       "  </tbody>\n",
       "</table>\n",
       "</div>"
      ],
      "text/plain": [
       "           날짜  과일    판매량\n",
       "0  2023-01-01  딸기   80.0\n",
       "1  2023-01-02  딸기    NaN\n",
       "2  2023-01-01  사과  180.0\n",
       "3  2023-01-02  사과  220.0\n",
       "4  2023-01-01  참외    NaN\n",
       "5  2023-01-02  참외   70.0"
      ]
     },
     "execution_count": 20,
     "metadata": {},
     "output_type": "execute_result"
    }
   ],
   "source": [
    "melt_df = pivot_table_df.reset_index().melt(id_vars='날짜', var_name='과일', value_name='판매량')\n",
    "melt_df"
   ]
  },
  {
   "cell_type": "code",
   "execution_count": 21,
   "id": "efe4c246-55fc-462f-87e5-d50523108fc7",
   "metadata": {},
   "outputs": [
    {
     "data": {
      "text/plain": [
       "RangeIndex(start=0, stop=6, step=1)"
      ]
     },
     "execution_count": 21,
     "metadata": {},
     "output_type": "execute_result"
    }
   ],
   "source": [
    "melt_df.index"
   ]
  }
 ],
 "metadata": {
  "kernelspec": {
   "display_name": "Python 3 (ipykernel)",
   "language": "python",
   "name": "python3"
  },
  "language_info": {
   "codemirror_mode": {
    "name": "ipython",
    "version": 3
   },
   "file_extension": ".py",
   "mimetype": "text/x-python",
   "name": "python",
   "nbconvert_exporter": "python",
   "pygments_lexer": "ipython3",
   "version": "3.10.13"
  }
 },
 "nbformat": 4,
 "nbformat_minor": 5
}
